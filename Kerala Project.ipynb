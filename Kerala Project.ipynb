{
    "cells": [
        {
            "metadata": {},
            "cell_type": "markdown",
            "source": "# Kerala Driving Data"
        },
        {
            "metadata": {},
            "cell_type": "code",
            "source": "\nimport ibmos2spark\n# @hidden_cell\ncredentials = {\n    'endpoint': 'https://s3-api.us-geo.objectstorage.service.networklayer.com',\n    'service_id': 'iam-ServiceId-ac974ab4-bffd-420f-97b8-99e54e82c7ea',\n    'iam_service_endpoint': 'https://iam.cloud.ibm.com/oidc/token',\n    'api_key': '9DvkpMM6-OL3UvHdTDa3N_ipepa_OnNB1jCnfV9f7oJr'\n}\n\nconfiguration_name = 'os_4d48bcb174ac4fb09325af2a8e59e2fc_configs'\ncos = ibmos2spark.CloudObjectStorage(sc, credentials, configuration_name, 'bluemix_cos')\n\nfrom pyspark.sql import SparkSession\nspark = SparkSession.builder.getOrCreate()\ndf_data_1 = spark.read\\\n  .format('org.apache.spark.sql.execution.datasources.csv.CSVFileFormat')\\\n  .option('header', 'true')\\\n  .load(cos.url('DLCOUNT311218.csv', 'keraladrivingproject-donotdelete-pr-t766l9dos9qxnb'))\ndf_data_1.take(5)\n",
            "execution_count": 2,
            "outputs": [
                {
                    "output_type": "execute_result",
                    "execution_count": 2,
                    "data": {
                        "text/plain": "[Row(CLASS DESCRIPTION='MOTOR CYCLE  BELOW  50CC', COUNT='184'),\n Row(CLASS DESCRIPTION='MOTOR CYCLE WITHOUT GEAR', COUNT='122812'),\n Row(CLASS DESCRIPTION='MOTOR CYCLE WITH GEAR', COUNT='410112'),\n Row(CLASS DESCRIPTION='THREE WHEELER', COUNT='67060'),\n Row(CLASS DESCRIPTION='AUTORICKSHAW TV', COUNT='3291')]"
                    },
                    "metadata": {}
                }
            ]
        },
        {
            "metadata": {},
            "cell_type": "code",
            "source": "",
            "execution_count": null,
            "outputs": []
        }
    ],
    "metadata": {
        "kernelspec": {
            "name": "python36",
            "display_name": "Python 3.6 with Spark",
            "language": "python3"
        },
        "language_info": {
            "mimetype": "text/x-python",
            "nbconvert_exporter": "python",
            "name": "python",
            "pygments_lexer": "ipython3",
            "version": "3.6.8",
            "file_extension": ".py",
            "codemirror_mode": {
                "version": 3,
                "name": "ipython"
            }
        }
    },
    "nbformat": 4,
    "nbformat_minor": 1
}